{
 "cells": [
  {
   "cell_type": "code",
   "execution_count": 5,
   "metadata": {},
   "outputs": [
    {
     "name": "stdout",
     "output_type": "stream",
     "text": [
      "e8a1f9146d32473b9605568ca66f7b5c2db9f271f57a8c8e9e121e48accddf2f\n",
      "f911a486\n",
      "picoCTF{1n_7h3_|<3y_of_f911a486}\n"
     ]
    }
   ],
   "source": [
    "import hashlib\n",
    "\n",
    "user_name = \"GOUGH\"\n",
    "\n",
    "key_static1 = \"picoCTF{1n_7h3_|<3y_of_\"\n",
    "key_dynamic = \"xxxxxxxx\"\n",
    "key_static2 =  \"}\"\n",
    "\n",
    "user_name_hash = hashlib.sha256(user_name.encode()).hexdigest()\n",
    "print(user_name_hash)\n",
    "\n",
    "hash_indexes = [4, 5, 3, 6, 2, 7, 1, 8]\n",
    "key_dynamic = \"\".join([user_name_hash[i] for i in hash_indexes])\n",
    "print(key_dynamic)\n",
    "\n",
    "# let's figure out the static key\n",
    "\n",
    "key = key_static1 + key_dynamic + key_static2\n",
    "print(key)"
   ]
  },
  {
   "cell_type": "code",
   "execution_count": null,
   "metadata": {},
   "outputs": [],
   "source": []
  }
 ],
 "metadata": {
  "interpreter": {
   "hash": "916dbcbb3f70747c44a77c7bcd40155683ae19c65e1c03b4aa3499c5328201f1"
  },
  "kernelspec": {
   "display_name": "Python 3.8.6 64-bit",
   "language": "python",
   "name": "python3"
  },
  "language_info": {
   "codemirror_mode": {
    "name": "ipython",
    "version": 3
   },
   "file_extension": ".py",
   "mimetype": "text/x-python",
   "name": "python",
   "nbconvert_exporter": "python",
   "pygments_lexer": "ipython3",
   "version": "3.8.6"
  },
  "orig_nbformat": 4
 },
 "nbformat": 4,
 "nbformat_minor": 2
}
