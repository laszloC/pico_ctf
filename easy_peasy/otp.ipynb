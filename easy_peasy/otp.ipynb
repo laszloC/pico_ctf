{
 "cells": [
  {
   "cell_type": "code",
   "execution_count": 99,
   "metadata": {},
   "outputs": [
    {
     "name": "stdout",
     "output_type": "stream",
     "text": [
      "32\n"
     ]
    }
   ],
   "source": [
    "encryped_flag = b'\\x5b\\x1e\\x56\\x4b\\x6e\\x41\\x5c\\x0e\\x39\\x4e\\x04\\x01\\x38\\x4b\\x08\\x55\\x3a\\x4e\\x5c\\x59\\x7b\\x6d\\x4a\\x5c\\x5a\\x68\\x4d\\x50\\x01\\x3d\\x6e\\x4b'\n",
    "\n",
    "# flag = bytes(a ^ b for (a, b) in zip(encryped_flag, zero_response))\n",
    "print(len(encryped_flag))"
   ]
  },
  {
   "cell_type": "markdown",
   "metadata": {},
   "source": [
    "Length of flag is 16 - the next encryption will start from offset 16 in key\n",
    "The key has length of 50000\n",
    "\n",
    "Idea: give 50000 zeros\n",
    "* when the server starts it will encrypt the flag with the first 16 bytes of the key\n",
    "* the second attempt will use the OTP flag from offset 16\n",
    "* If we give an array of zeros the length of the key, the first 50000-16 bytes will be the remaining bytes in the key file, but crucially the last 16 bytes of the output will be the first 16 bytes of the key file!!!!"
   ]
  },
  {
   "cell_type": "code",
   "execution_count": 122,
   "metadata": {},
   "outputs": [
    {
     "name": "stdout",
     "output_type": "stream",
     "text": [
      "******************Welcome to our OTP implementation!******************\n",
      "This is the encrypted flag!\n",
      "5b1e564b6e415c0e394e0401384b08553a4e5c597b6d4a5c5a684d50013d6e4b\n",
      "\n",
      "What data would you like to encrypt? \n",
      "b'Here ya go!\\n'\n",
      "99936\n",
      "b'\\n\\nWhat data would you like to encrypt? '\n",
      "b'Here ya go!\\n6227667c5c7865385c7862365c7831625c7839384b5c7864385c7861365e5c78'\n"
     ]
    }
   ],
   "source": [
    "import socket\n",
    "\n",
    "HOST = \"mercury.picoctf.net\"\n",
    "PORT = 20266\n",
    "\n",
    "KEY_LEN = 50000\n",
    "FLAG_LEN = 32\n",
    "\n",
    "\n",
    "with socket.socket(socket.AF_INET, socket.SOCK_STREAM) as s:\n",
    "    s.connect((HOST, PORT))\n",
    "    flag = (s.recv(128) + s.recv(256)).decode()\n",
    "    print(flag)\n",
    "\n",
    "    crafted_message = (b\"\\x00\" * (KEY_LEN - FLAG_LEN)) + b\"\\n\"\n",
    "    s.sendall(crafted_message)\n",
    "\n",
    "    print(s.recv(12))\n",
    "    otp = b\"\"\n",
    "    while len(otp) < ((KEY_LEN - FLAG_LEN) * 2):\n",
    "        otp += s.recv(1)\n",
    "        # print(len(otp))\n",
    "    # key = otp[-(FLAG_LEN + 1):-1]\n",
    "    print(len(otp))\n",
    "\n",
    "    print(s.recv(128))\n",
    "    # print(s.recv(128))\n",
    "\n",
    "    with open(\"key\", \"w\") as key_file:\n",
    "        key_file.write(otp.decode())\n",
    "\n",
    "    s.sendall(b\"\\x00\" * FLAG_LEN + B\"\\n\")\n",
    "    key = s.recv(12 + FLAG_LEN * 2)\n",
    "    print(key)\n",
    "    # print(otp[-(FLAG_LEN * 2):].decode())\n"
   ]
  },
  {
   "cell_type": "code",
   "execution_count": 123,
   "metadata": {},
   "outputs": [
    {
     "name": "stdout",
     "output_type": "stream",
     "text": [
      "Encrypted flag: [\u001eVKnA\\\u000e9N\u0004\u00018U:N\\Y{mJ\\ZhMP\u0001=nK\n",
      "Zero response: b'f|\\xe8\\xb6\\x1b\\x98K\\xd8\\xa6^\\x\n",
      "Flag: picoCTF{99072996e6f7d397f6ea0128b4517c23}\n"
     ]
    }
   ],
   "source": [
    "# zero_response = b\"\\x78\\x39\\x63\\x5c\\x78\\x30\\x34\\x5c\\x78\\x61\\x36\\x5c\\x78\\x39\\x39\\x5c\\x78\\x65\\x38\\x4c\\x5c\\x78\\x39\\x39\\x5c\\x78\\x31\\x33\\x5c\\x78\\x39\\x33\"\n",
    "# zero_response = b\"\\x5c\\x78\\x38\\x30\\x5c\\x78\\x61\\x32\\x5c\\x78\\x31\\x63\\x5f\\x3e\\x61\\x5c\\x78\\x31\\x39\\x5c\\x78\\x38\\x33\\x5a\\x68\\x52\\x5c\\x78\\x39\\x66\\x5c\\x78\"\n",
    "e_flag = \"5b1e564b6e415c0e394e0401384b08553a4e5c597b6d4a5c5a684d50013d6e4b\"\n",
    "# zero_response = b\"\\x5c\\x78\\x31\\x34\\x5c\\x78\\x38\\x61\\x5c\\x78\\x66\\x62\\x60\\x5c\\x78\\x38\\x30\\x5c\\x78\\x31\\x64\\x5c\\x78\\x38\\x36\\x5c\\x78\\x39\\x39\\x5c\\x78\\x64\"\n",
    "# zero_response = b\"\\x62\\x27\\x66\\x7c\\x5c\\x78\\x65\\x38\\x5c\\x78\\x62\\x36\\x5c\\x78\\x31\\x62\\x5c\\x78\\x39\\x38\\x4b\\x5c\\x78\\x64\\x38\\x5c\"\n",
    "zero_response = b\"\\x62\\x27\\x66\\x7c\\x5c\\x78\\x65\\x38\\x5c\\x78\\x62\\x36\\x5c\\x78\\x31\\x62\\x5c\\x78\\x39\\x38\\x4b\\x5c\\x78\\x64\\x38\\x5c\\x78\\x61\\x36\\x5e\\x5c\\x78\"\n",
    "\n",
    "print(f\"Encrypted flag: {encryped_flag.decode()}\")\n",
    "print(f\"Zero response: {zero_response.decode()}\")\n",
    "\n",
    "flag = bytes(a ^ b for (a, b) in zip(encryped_flag, zero_response))\n",
    "print(f\"Flag: picoCTF{{{flag.decode()}}}\")"
   ]
  },
  {
   "cell_type": "code",
   "execution_count": 112,
   "metadata": {},
   "outputs": [
    {
     "name": "stdout",
     "output_type": "stream",
     "text": [
      "Flag: picoCTF{12341234123412341234123412341234}\n"
     ]
    }
   ],
   "source": [
    "# test_f_e = b\"\\x5b\\x1e\\x56\\x4b\\x6e\\x41\\x5c\\x0e\\x39\\x4e\\x04\\x01\\x38\\x4b\\x08\\x55\\x3a\\x4e\\x5c\\x59\\x7b\\x6d\\x4a\\x5c\\x5a\\x68\\x4d\\x50\\x01\\x3d\\x6e\\x4b\"\n",
    "test_f_e = b\"\\x50\\x04\\x6f\\x4c\\x09\\x54\\x6f\\x4c\\x50\\x03\\x6f\\x4c\\x55\\x56\\x6f\\x4c\\x09\\x51\\x6f\\x4c\\x52\\x07\\x55\\x06\\x6d\\x4a\\x56\\x01\\x1c\\x01\\x6f\\x4c\"\n",
    "\n",
    "test_key = b\"\\x61\\x36\\x5c\\x78\\x38\\x66\\x5c\\x78\\x61\\x31\\x5c\\x78\\x64\\x64\\x5c\\x78\\x38\\x63\\x5c\\x78\\x63\\x35\\x66\\x32\\x5c\\x78\\x65\\x35\\x2d\\x33\\x5c\\x78\"\n",
    "\n",
    "flag = bytes(a ^ b for (a, b) in zip(test_f_e, test_key))\n",
    "print(f\"Flag: picoCTF{{{flag.decode()}}}\")"
   ]
  }
 ],
 "metadata": {
  "interpreter": {
   "hash": "164aec61ebbbaf4ab1efd325d526825e53124afae0bb33cb5523cc516130294b"
  },
  "kernelspec": {
   "display_name": "Python 3.8.6 64-bit ('venv': venv)",
   "language": "python",
   "name": "python3"
  },
  "language_info": {
   "codemirror_mode": {
    "name": "ipython",
    "version": 3
   },
   "file_extension": ".py",
   "mimetype": "text/x-python",
   "name": "python",
   "nbconvert_exporter": "python",
   "pygments_lexer": "ipython3",
   "version": "3.8.6"
  },
  "orig_nbformat": 4
 },
 "nbformat": 4,
 "nbformat_minor": 2
}
