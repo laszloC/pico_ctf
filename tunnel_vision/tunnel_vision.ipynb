{
 "cells": [
  {
   "cell_type": "code",
   "execution_count": 1,
   "metadata": {},
   "outputs": [
    {
     "name": "stdout",
     "output_type": "stream",
     "text": [
      "<class 'numpy.ndarray'>\n",
      "(306, 1134, 3)\n"
     ]
    }
   ],
   "source": [
    "import cv2\n",
    "\n",
    "img = cv2.imread(\"fixed.bmp\", cv2.IMREAD_UNCHANGED)\n",
    "\n",
    "print(type(img))\n",
    "print(img.shape)\n",
    "# cv2.imwrite(\"fixed.bmp\", img)"
   ]
  },
  {
   "cell_type": "code",
   "execution_count": 2,
   "metadata": {},
   "outputs": [
    {
     "name": "stdout",
     "output_type": "stream",
     "text": [
      "<class 'numpy.ndarray'>\n"
     ]
    },
    {
     "data": {
      "text/plain": [
       "True"
      ]
     },
     "execution_count": 2,
     "metadata": {},
     "output_type": "execute_result"
    }
   ],
   "source": [
    "# invert the colors\n",
    "print(type(img))\n",
    "inverted = cv2.bitwise_not(img)\n",
    "cv2.imwrite(\"inverted.bmp\", inverted)"
   ]
  },
  {
   "cell_type": "code",
   "execution_count": 6,
   "metadata": {},
   "outputs": [
    {
     "data": {
      "text/plain": [
       "True"
      ]
     },
     "execution_count": 6,
     "metadata": {},
     "output_type": "execute_result"
    }
   ],
   "source": [
    "# switch red and blue\n",
    "switched = img.copy()\n",
    "\n",
    "rows, cols, _ = img.shape\n",
    "\n",
    "for i in range(rows):\n",
    "    for j in range(cols):\n",
    "        k = img[i, j]\n",
    "        t = k[2]\n",
    "        k[2] = k[0]\n",
    "        k[0] = t\n",
    "\n",
    "cv2.imwrite(\"switched.bmp\", switched)"
   ]
  },
  {
   "cell_type": "code",
   "execution_count": 7,
   "metadata": {},
   "outputs": [
    {
     "data": {
      "text/plain": [
       "True"
      ]
     },
     "execution_count": 7,
     "metadata": {},
     "output_type": "execute_result"
    }
   ],
   "source": [
    "# save grayscale\n",
    "gray_img = cv2.imread(\"fixed.bmp\", cv2.IMREAD_GRAYSCALE)\n",
    "cv2.imwrite(\"grayscale.bmp\", gray_img)"
   ]
  },
  {
   "cell_type": "code",
   "execution_count": 9,
   "metadata": {},
   "outputs": [
    {
     "data": {
      "text/plain": [
       "True"
      ]
     },
     "execution_count": 9,
     "metadata": {},
     "output_type": "execute_result"
    }
   ],
   "source": [
    "# transpose?\n",
    "transposed = cv2.transpose(img)\n",
    "cv2.imwrite(\"transposed.bmp\", transposed)"
   ]
  }
 ],
 "metadata": {
  "interpreter": {
   "hash": "164aec61ebbbaf4ab1efd325d526825e53124afae0bb33cb5523cc516130294b"
  },
  "kernelspec": {
   "display_name": "Python 3.8.6 64-bit ('venv': venv)",
   "language": "python",
   "name": "python3"
  },
  "language_info": {
   "codemirror_mode": {
    "name": "ipython",
    "version": 3
   },
   "file_extension": ".py",
   "mimetype": "text/x-python",
   "name": "python",
   "nbconvert_exporter": "python",
   "pygments_lexer": "ipython3",
   "version": "3.8.6"
  },
  "orig_nbformat": 4
 },
 "nbformat": 4,
 "nbformat_minor": 2
}
